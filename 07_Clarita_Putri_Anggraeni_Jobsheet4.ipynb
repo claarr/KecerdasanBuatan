{
  "nbformat": 4,
  "nbformat_minor": 0,
  "metadata": {
    "colab": {
      "provenance": [],
      "collapsed_sections": [],
      "authorship_tag": "ABX9TyMfGOb77Es+AzOKKdXSDYkg",
      "include_colab_link": true
    },
    "kernelspec": {
      "name": "python3",
      "display_name": "Python 3"
    },
    "language_info": {
      "name": "python"
    }
  },
  "cells": [
    {
      "cell_type": "markdown",
      "metadata": {
        "id": "view-in-github",
        "colab_type": "text"
      },
      "source": [
        "<a href=\"https://colab.research.google.com/github/claarr/KecerdasanBuatan/blob/main/07_Clarita_Putri_Anggraeni_Jobsheet4.ipynb\" target=\"_parent\"><img src=\"https://colab.research.google.com/assets/colab-badge.svg\" alt=\"Open In Colab\"/></a>"
      ]
    },
    {
      "cell_type": "markdown",
      "source": [
        "PERCOBAAN 1 (BFS)"
      ],
      "metadata": {
        "id": "5f-D88h_GDIA"
      }
    },
    {
      "cell_type": "code",
      "source": [
        "graph = {\n",
        "    'A' : ['B','C'],\n",
        "    'B' : ['D','E'],\n",
        "    'C' : ['F'],\n",
        "    'D' : [],\n",
        "    'E' : ['F'],\n",
        "    'F' : ['H'],\n",
        "    'G' : ['H'],\n",
        "    'H' : ['G']\n",
        "}\n",
        "visited = [] #List to keep track of visited nodes. (daftar untuk melacak node yang dikunjungi)\n",
        "queue = [] #Initialize a queue\n",
        "\n",
        "def bfs(visited, graph, node):\n",
        "  visited.append(node)\n",
        "  queue.append(node)\n",
        "\n",
        "  while queue:\n",
        "    s = queue.pop(0)\n",
        "    print (s, end = \" \")\n",
        "\n",
        "    for neighbour in graph[s]:\n",
        "      if neighbour not in visited:\n",
        "        visited.append(neighbour)\n",
        "        queue.append(neighbour)\n",
        "\n",
        "print(\"Hasil penulusuran graf menggunakan BFS:\")\n",
        "bfs(visited, graph, 'A')"
      ],
      "metadata": {
        "colab": {
          "base_uri": "https://localhost:8080/"
        },
        "id": "QCgx7w8j4Jrt",
        "outputId": "424a23dc-b4b0-4d10-c49f-f776df3c5717"
      },
      "execution_count": 1,
      "outputs": [
        {
          "output_type": "stream",
          "name": "stdout",
          "text": [
            "Hasil penulusuran graf menggunakan BFS:\n",
            "A B C D E F H G "
          ]
        }
      ]
    },
    {
      "cell_type": "markdown",
      "source": [
        "PERTANYAAN 2 (PERCOBAAN 1)"
      ],
      "metadata": {
        "id": "3cBiVMK2KYOf"
      }
    },
    {
      "cell_type": "code",
      "source": [
        "graph = {\n",
        "    'A' : ['B','C'],\n",
        "    'B' : ['D','E'],\n",
        "    'C' : ['F'],\n",
        "    'D' : [],\n",
        "    'E' : ['F','G'],\n",
        "    'F' : ['H'],\n",
        "    'G' : ['H'],\n",
        "    'H' : ['G']\n",
        "}\n",
        "visited = [] #List to keep track of visited nodes. (daftar untuk melacak node yang dikunjungi)\n",
        "queue = [] #Initialize a queue\n",
        "\n",
        "def bfs(visited, graph, node):\n",
        "  visited.append(node)\n",
        "  queue.append(node)\n",
        "\n",
        "  while queue:\n",
        "    s = queue.pop(0)\n",
        "    print (s, end = \" \")\n",
        "\n",
        "    for neighbour in graph[s]:\n",
        "      if neighbour not in visited:\n",
        "        visited.append(neighbour)\n",
        "        queue.append(neighbour)\n",
        "\n",
        "print(\"Hasil penulusuran graf menggunakan BFS:\")\n",
        "bfs(visited, graph, 'A')"
      ],
      "metadata": {
        "colab": {
          "base_uri": "https://localhost:8080/"
        },
        "id": "RrlmlzNOKcwm",
        "outputId": "3c883770-34e7-4d98-e934-ca091338c069"
      },
      "execution_count": 9,
      "outputs": [
        {
          "output_type": "stream",
          "name": "stdout",
          "text": [
            "Hasil penulusuran graf menggunakan BFS:\n",
            "A B C D E F G H "
          ]
        }
      ]
    },
    {
      "cell_type": "markdown",
      "source": [
        "PERCOBAAN 2 (DFS)"
      ],
      "metadata": {
        "id": "_2D66B67GJ1f"
      }
    },
    {
      "cell_type": "code",
      "source": [
        "graph = {\n",
        "    'A' : ['B','C'],\n",
        "    'B' : ['D','E'],\n",
        "    'C' : ['F'],\n",
        "    'D' : [],\n",
        "    'E' : ['F'],\n",
        "    'F' : ['H'],\n",
        "    'G' : ['H'],\n",
        "    'H' : ['G']\n",
        "}\n",
        "visited = set()\n",
        "def dfs(visited, graph, node):\n",
        "  if node not in visited:\n",
        "    print (node)\n",
        "    visited.add(node)\n",
        "    for neighbour in graph[node]:\n",
        "      dfs(visited, graph, neighbour)\n",
        "\n",
        "print(\"Hasil penulusuran graf menggunakan DFS:\")\n",
        "dfs(visited, graph, 'A')"
      ],
      "metadata": {
        "colab": {
          "base_uri": "https://localhost:8080/"
        },
        "id": "Cg5EbLk1_Ol7",
        "outputId": "dd87f99a-3e42-458d-9a8b-125bcb0d5da0"
      },
      "execution_count": 2,
      "outputs": [
        {
          "output_type": "stream",
          "name": "stdout",
          "text": [
            "Hasil penulusuran graf menggunakan DFS:\n",
            "A\n",
            "B\n",
            "D\n",
            "E\n",
            "F\n",
            "H\n",
            "G\n",
            "C\n"
          ]
        }
      ]
    },
    {
      "cell_type": "markdown",
      "source": [
        "PERTANYAAN 2 (PERCOBAAN 2)"
      ],
      "metadata": {
        "id": "Qb-LyWoZLKuU"
      }
    },
    {
      "cell_type": "code",
      "source": [
        "graph = {\n",
        "    'A' : ['B','C'],\n",
        "    'B' : ['D','E','C'],\n",
        "    'C' : ['F'],\n",
        "    'D' : [],\n",
        "    'E' : ['F'],\n",
        "    'F' : ['H'],\n",
        "    'G' : ['H'],\n",
        "    'H' : ['G']\n",
        "}\n",
        "visited = set()\n",
        "def dfs(visited, graph, node):\n",
        "  if node not in visited:\n",
        "    print (node)\n",
        "    visited.add(node)\n",
        "    for neighbour in graph[node]:\n",
        "      dfs(visited, graph, neighbour)\n",
        "\n",
        "print(\"Hasil penulusuran graf menggunakan DFS:\")\n",
        "dfs(visited, graph, 'A')"
      ],
      "metadata": {
        "colab": {
          "base_uri": "https://localhost:8080/"
        },
        "id": "cv38QZsOLNrk",
        "outputId": "66e9ae37-61a2-4967-dffc-d81803b51447"
      },
      "execution_count": 10,
      "outputs": [
        {
          "output_type": "stream",
          "name": "stdout",
          "text": [
            "Hasil penulusuran graf menggunakan DFS:\n",
            "A\n",
            "B\n",
            "D\n",
            "E\n",
            "F\n",
            "H\n",
            "G\n",
            "C\n"
          ]
        }
      ]
    },
    {
      "cell_type": "markdown",
      "source": [
        "PERTANYAAN 3 (PERCOBAAN 2)"
      ],
      "metadata": {
        "id": "42OxLK3hfw51"
      }
    },
    {
      "cell_type": "code",
      "source": [
        "graph = {\n",
        "    'A' : ['B','C'],\n",
        "    'B' : ['A','D','E'],\n",
        "    'C' : ['A','F'],\n",
        "    'D' : ['B'],\n",
        "    'E' : ['B','F'],\n",
        "    'F' : ['C','E','H'],\n",
        "    'G' : ['H'],\n",
        "    'H' : ['F','G']\n",
        "}\n",
        "visited = set()\n",
        "def dfs(visited, graph, node):\n",
        "  if node not in visited:\n",
        "    print (node)\n",
        "    visited.add(node)\n",
        "    for neighbour in graph[node]:\n",
        "      dfs(visited, graph, neighbour)\n",
        "\n",
        "print(\"Hasil penulusuran graf menggunakan DFS:\")\n",
        "dfs(visited, graph, 'A')"
      ],
      "metadata": {
        "colab": {
          "base_uri": "https://localhost:8080/"
        },
        "id": "v3u57aCif05d",
        "outputId": "29594eb3-57a5-414f-f855-a0437d5e792d"
      },
      "execution_count": 22,
      "outputs": [
        {
          "output_type": "stream",
          "name": "stdout",
          "text": [
            "Hasil penulusuran graf menggunakan DFS:\n",
            "A\n",
            "B\n",
            "D\n",
            "E\n",
            "F\n",
            "C\n",
            "H\n",
            "G\n"
          ]
        }
      ]
    },
    {
      "cell_type": "markdown",
      "source": [
        "LATIHAN PRAKTIKUM 1"
      ],
      "metadata": {
        "id": "W85bfAX5GMOf"
      }
    },
    {
      "cell_type": "markdown",
      "source": [
        "A. BFS"
      ],
      "metadata": {
        "id": "cPtx4FX5GWzk"
      }
    },
    {
      "cell_type": "code",
      "source": [
        "graph = {\n",
        "    'A' : ['B','E','F'],\n",
        "    'B' : ['F','G'],\n",
        "    'C' : ['D','G'],\n",
        "    'D' : ['H'],\n",
        "    'E' : ['F'],\n",
        "    'F' : ['B','E'],\n",
        "    'G' : ['C','H'],\n",
        "    'H' : ['D']\n",
        "}\n",
        "visited = [] #List to keep track of visited nodes. (daftar untuk melacak node yang dikunjungi)\n",
        "queue = [] #Initialize a queue\n",
        "\n",
        "def bfs(visited, graph, node):\n",
        "  visited.append(node)\n",
        "  queue.append(node)\n",
        "\n",
        "  while queue:\n",
        "    s = queue.pop(0)\n",
        "    print (s, end = \" \")\n",
        "\n",
        "    for neighbour in graph[s]:\n",
        "      if neighbour not in visited:\n",
        "        visited.append(neighbour)\n",
        "        queue.append(neighbour)\n",
        "\n",
        "print(\"Hasil penulusuran graf menggunakan BFS:\")\n",
        "bfs(visited, graph, 'A')"
      ],
      "metadata": {
        "colab": {
          "base_uri": "https://localhost:8080/"
        },
        "id": "m3zEuKumGO2F",
        "outputId": "094fc952-ccd7-498c-abd4-0bad7f2f86c5"
      },
      "execution_count": 11,
      "outputs": [
        {
          "output_type": "stream",
          "name": "stdout",
          "text": [
            "Hasil penulusuran graf menggunakan BFS:\n",
            "A B E F G C H D "
          ]
        }
      ]
    },
    {
      "cell_type": "markdown",
      "source": [
        "DFS"
      ],
      "metadata": {
        "id": "sM0lb3coH1mh"
      }
    },
    {
      "cell_type": "code",
      "source": [
        "graph = {\n",
        "    'A' : ['B','E','F'],\n",
        "    'B' : ['G'],\n",
        "    'C' : ['D'],\n",
        "    'D' : ['H'],\n",
        "    'E' : ['F'],\n",
        "    'F' : ['B'],\n",
        "    'G' : ['C','H'],\n",
        "    'H' : ['D']\n",
        "}\n",
        "visited = set()\n",
        "def dfs(visited, graph, node):\n",
        "  if node not in visited:\n",
        "    print (node)\n",
        "    visited.add(node)\n",
        "    for neighbour in graph[node]:\n",
        "      dfs(visited, graph, neighbour)\n",
        "\n",
        "print(\"Hasil penulusuran graf menggunakan DFS:\")\n",
        "dfs(visited, graph, 'A')"
      ],
      "metadata": {
        "colab": {
          "base_uri": "https://localhost:8080/"
        },
        "id": "iiNbGLvqH3Hu",
        "outputId": "f50c58f6-244a-419c-cb28-cfb877defc27"
      },
      "execution_count": 15,
      "outputs": [
        {
          "output_type": "stream",
          "name": "stdout",
          "text": [
            "Hasil penulusuran graf menggunakan DFS:\n",
            "A\n",
            "B\n",
            "G\n",
            "C\n",
            "D\n",
            "H\n",
            "E\n",
            "F\n"
          ]
        }
      ]
    },
    {
      "cell_type": "markdown",
      "source": [
        "LATIHAN PRAKTIKUM 2"
      ],
      "metadata": {
        "id": "NlY7rVgBIITC"
      }
    },
    {
      "cell_type": "markdown",
      "source": [
        "A. BFS"
      ],
      "metadata": {
        "id": "jrqecbWbIKmO"
      }
    },
    {
      "cell_type": "code",
      "source": [
        "graph = {\n",
        "    'A' : ['B'],\n",
        "    'B' : ['F','G'],\n",
        "    'C' : ['D','G'],\n",
        "    'D' : ['H'],\n",
        "    'E' : ['F'],\n",
        "    'F' : ['E'],\n",
        "    'G' : ['C'],\n",
        "    'H' : ['D']\n",
        "}\n",
        "visited = [] #List to keep track of visited nodes. (daftar untuk melacak node yang dikunjungi)\n",
        "queue = [] #Initialize a queue\n",
        "\n",
        "def bfs(visited, graph, node):\n",
        "  visited.append(node)\n",
        "  queue.append(node)\n",
        "\n",
        "  while queue:\n",
        "    s = queue.pop(0)\n",
        "    print (s, end = \" \")\n",
        "    if s == 'D':\n",
        "      break\n",
        "\n",
        "    for neighbour in graph[s]:\n",
        "      if neighbour not in visited:\n",
        "        visited.append(neighbour)\n",
        "        queue.append(neighbour)\n",
        "\n",
        "print(\"Hasil penulusuran graf menggunakan BFS:\")\n",
        "bfs(visited, graph, 'A')"
      ],
      "metadata": {
        "colab": {
          "base_uri": "https://localhost:8080/"
        },
        "id": "M2bIn4VJIMZZ",
        "outputId": "968e4ea8-5055-41f3-c58b-ab5ed79c6f89"
      },
      "execution_count": 20,
      "outputs": [
        {
          "output_type": "stream",
          "name": "stdout",
          "text": [
            "Hasil penulusuran graf menggunakan BFS:\n",
            "A B F G E C D "
          ]
        }
      ]
    },
    {
      "cell_type": "markdown",
      "source": [
        "B. DFS"
      ],
      "metadata": {
        "id": "CmijecC8UAlW"
      }
    },
    {
      "cell_type": "code",
      "source": [
        "graph = {\n",
        "    'A' : ['B'],\n",
        "    'B' : ['A','F','G'],\n",
        "    'C' : ['D','G'],\n",
        "    'D' : ['C','H'],\n",
        "    'E' : ['F'],\n",
        "    'F' : ['B','E'],\n",
        "    'G' : ['B','C'],\n",
        "    'H' : ['D']\n",
        "}\n",
        "visited = set()\n",
        "def dfs(visited, graph, node):\n",
        "  if node not in visited:\n",
        "    print (node)\n",
        "    if node == 'D':\n",
        "      return\n",
        "      \n",
        "    visited.add(node)\n",
        "    for neighbour in graph[node]:\n",
        "      dfs(visited, graph, neighbour)\n",
        "\n",
        "print(\"Hasil penulusuran graf menggunakan DFS:\")\n",
        "dfs(visited, graph, 'A')\n"
      ],
      "metadata": {
        "colab": {
          "base_uri": "https://localhost:8080/"
        },
        "id": "z2Kxpt7SUBvY",
        "outputId": "c492697c-22f7-4e9c-f676-18cb0525e1f5"
      },
      "execution_count": 19,
      "outputs": [
        {
          "output_type": "stream",
          "name": "stdout",
          "text": [
            "Hasil penulusuran graf menggunakan DFS:\n",
            "A\n",
            "B\n",
            "F\n",
            "E\n",
            "G\n",
            "C\n",
            "D\n"
          ]
        }
      ]
    }
  ]
}